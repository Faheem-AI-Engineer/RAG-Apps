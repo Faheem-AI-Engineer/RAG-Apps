{
 "cells": [
  {
   "cell_type": "code",
   "execution_count": null,
   "metadata": {},
   "outputs": [],
   "source": [
    "pip install -U langchain langchain-community faiss-cpu langchain-ollama python-dotenv docling langchain-docling"
   ]
  },
  {
   "cell_type": "code",
   "execution_count": 2,
   "metadata": {},
   "outputs": [
    {
     "data": {
      "text/plain": [
       "True"
      ]
     },
     "execution_count": 2,
     "metadata": {},
     "output_type": "execute_result"
    }
   ],
   "source": [
    "# Environment setup\n",
    "from dotenv import load_dotenv\n",
    "import os\n",
    "import warnings\n",
    "os.environ['KMP_DUPLICATE_LIB_OK'] = 'True'\n",
    "warnings.filterwarnings(\"ignore\")\n",
    "load_dotenv()"
   ]
  },
  {
   "cell_type": "code",
   "execution_count": 3,
   "metadata": {},
   "outputs": [],
   "source": [
    "import faiss\n",
    "\n",
    "from langchain_community.docstore.in_memory import InMemoryDocstore\n",
    "from langchain_community.vectorstores import FAISS\n",
    "\n",
    "from langchain_core.output_parsers import StrOutputParser\n",
    "from langchain_core.prompts import ChatPromptTemplate\n",
    "from langchain_core.runnables import RunnablePassthrough\n",
    "\n",
    "from langchain_text_splitters import MarkdownHeaderTextSplitter\n",
    "\n",
    "from langchain_ollama import ChatOllama, OllamaEmbeddings\n",
    "\n",
    "from docling.document_converter import DocumentConverter"
   ]
  },
  {
   "cell_type": "markdown",
   "metadata": {},
   "source": [
    "### Document conversion"
   ]
  },
  {
   "cell_type": "code",
   "execution_count": 4,
   "metadata": {},
   "outputs": [],
   "source": [
    "def load_and_convert_document(file_path):\n",
    "    converter = DocumentConverter()\n",
    "    result = converter.convert(file_path)\n",
    "    return result.document.export_to_markdown()\n",
    "\n",
    "source = \"./rag-dataset/goog-10-q-q3-2024.pdf\"\n",
    "markdown_content = load_and_convert_document(source)"
   ]
  },
  {
   "cell_type": "code",
   "execution_count": 5,
   "metadata": {},
   "outputs": [
    {
     "name": "stdout",
     "output_type": "stream",
     "text": [
      "## UNITED STATES\n",
      "\n",
      "## SECURITIES AND EXCHANGE COMMISSION\n",
      "\n",
      "Washington, D.C. 20549\n",
      "\n",
      "\\_\\_\\_\\_\\_\\_\\_\\_\\_\\_\\_\\_\\_\\_\\_\\_\\_\\_\\_\\_\\_\\_\\_\\_\\_\\_\\_\\_\\_\\_\\_\\_\\_\\_\\_\\_\\_\\_\\_\\_\\_\\_\\_\\_\\_\\_\\_\\_\\_\\_\\_\\_\\_\\_\\_\\_\\_\\_\\_\\_\\_\\_\\_\\_\\_\\_\\_\\_\\_\\_\\_\\_\\_\\_\\_\\_\\_\\_\\_\\_\\_\\_\\_\\_\\_\\_\\_\\_\n",
      "\n",
      "## FORM 10-Q\n",
      "\n",
      "\\_\\_\\_\\_\\_\\_\\_\\_\\_\\_\\_\\_\\_\\_\\_\\_\\_\\_\\_\\_\\_\\_\\_\\_\\_\\_\\_\\_\\_\\_\\_\\_\\_\\_\\_\\_\\_\\_\\_\\_\\_\\_\\_\\_\\_\\_\\_\\_\\_\\_\\_\\_\\_\\_\\_\\_\\_\\_\\_\\_\\_\\_\\_\\_\\_\\_\\_\\_\\_\\_\\_\\_\\_\\_\\_\\_\\_\\_\\_\\_\\_\\_\\_\\_\\_\\_\\_\\_\n",
      "\n",
      "(Mark One)\n",
      "\n",
      "- ☒ QUARTERLY REPORT PURSUANT TO SECTION 13 OR 15(d) OF THE SECURITIES EXCHANGE ACT OF 1934\n",
      "\n",
      "For the quarterly period ended September 30, 2024\n",
      "\n",
      "OR\n",
      "\n",
      "- ☐ TRANSITION REPORT PURSUANT TO SECTION 13 OR 15(d) OF THE SECURITIES EXCHANGE ACT OF 1934\n",
      "\n",
      "For the transition period from \\_\\_\\_\\_\\_\\_\\_ to \\_\\_\\_\\_\\_\\_\\_\n",
      "\n",
      "Commission file number: 001-37580\n",
      "\n",
      "\\_\\_\\_\\_\\_\\_\\_\\_\\_\\_\\_\\_\\_\\_\\_\\_\\_\\_\\_\\_\\_\\_\\_\\_\\_\\_\\_\\_\\_\\_\\_\\_\\_\\_\\_\\_\\_\\_\\_\\_\\_\\_\\_\\_\\_\\_\\_\\_\\_\\_\\_\\_\\_\\_\\_\\_\\_\\_\\_\\_\\_\\_\\_\\_\\_\\_\\_\\_\\_\\_\\_\\_\\_\\_\\_\\_\\_\\_\\_\\_\\_\\_\\_\\_\\_\\_\\_\\_\n",
      "\n",
      "## Alphabet Inc.\n",
      "\n"
     ]
    }
   ],
   "source": [
    "print(markdown_content[:1000])"
   ]
  },
  {
   "cell_type": "markdown",
   "metadata": {},
   "source": [
    "### Splitting markdown content into chunks"
   ]
  },
  {
   "cell_type": "code",
   "execution_count": 6,
   "metadata": {},
   "outputs": [],
   "source": [
    "# Splitting markdown content into chunks\n",
    "def get_markdown_splits(markdown_content):\n",
    "    headers_to_split_on = [(\"#\", \"Header 1\"), (\"##\", \"Header 2\"), (\"###\", \"Header 3\")]\n",
    "    markdown_splitter = MarkdownHeaderTextSplitter(headers_to_split_on, strip_headers=False)\n",
    "    return markdown_splitter.split_text(markdown_content)\n",
    "\n",
    "\n",
    "chunks = get_markdown_splits(markdown_content)"
   ]
  },
  {
   "cell_type": "code",
   "execution_count": 7,
   "metadata": {},
   "outputs": [
    {
     "name": "stdout",
     "output_type": "stream",
     "text": [
      "## FORM 10-Q  \n",
      "\\_\\_\\_\\_\\_\\_\\_\\_\\_\\_\\_\\_\\_\\_\\_\\_\\_\\_\\_\\_\\_\\_\\_\\_\\_\\_\\_\\_\\_\\_\\_\\_\\_\\_\\_\\_\\_\\_\\_\\_\\_\\_\\_\\_\\_\\_\\_\\_\\_\\_\\_\\_\\_\\_\\_\\_\\_\\_\\_\\_\\_\\_\\_\\_\\_\\_\\_\\_\\_\\_\\_\\_\\_\\_\\_\\_\\_\\_\\_\\_\\_\\_\\_\\_\\_\\_\\_\\_  \n",
      "(Mark One)  \n",
      "- ☒ QUARTERLY REPORT PURSUANT TO SECTION 13 OR 15(d) OF THE SECURITIES EXCHANGE ACT OF 1934  \n",
      "For the quarterly period ended September 30, 2024  \n",
      "OR  \n",
      "- ☐ TRANSITION REPORT PURSUANT TO SECTION 13 OR 15(d) OF THE SECURITIES EXCHANGE ACT OF 1934  \n",
      "For the transition period from \\_\\_\\_\\_\\_\\_\\_ to \\_\\_\\_\\_\\_\\_\\_  \n",
      "Commission file number: 001-37580  \n",
      "\\_\\_\\_\\_\\_\\_\\_\\_\\_\\_\\_\\_\\_\\_\\_\\_\\_\\_\\_\\_\\_\\_\\_\\_\\_\\_\\_\\_\\_\\_\\_\\_\\_\\_\\_\\_\\_\\_\\_\\_\\_\\_\\_\\_\\_\\_\\_\\_\\_\\_\\_\\_\\_\\_\\_\\_\\_\\_\\_\\_\\_\\_\\_\\_\\_\\_\\_\\_\\_\\_\\_\\_\\_\\_\\_\\_\\_\\_\\_\\_\\_\\_\\_\\_\\_\\_\\_\\_\n"
     ]
    }
   ],
   "source": [
    "print(chunks[2].page_content)"
   ]
  },
  {
   "cell_type": "markdown",
   "metadata": {},
   "source": [
    "### Embedding and vector store setup"
   ]
  },
  {
   "cell_type": "code",
   "execution_count": 12,
   "metadata": {},
   "outputs": [],
   "source": [
    "# Embedding and vector store setup\n",
    "def setup_vector_store(chunks):\n",
    "    embeddings = OllamaEmbeddings(model='nomic-embed-text', base_url=\"http://localhost:11434\")\n",
    "    single_vector = embeddings.embed_query(\"What's the embedding size?\")\n",
    "    # print(len(single_vector))\n",
    "    # print(single_vector)\n",
    "    index = faiss.IndexFlatL2(len(single_vector))\n",
    "    vector_store = FAISS(\n",
    "        embedding_function=embeddings,\n",
    "        index=index,\n",
    "        docstore=InMemoryDocstore(),\n",
    "        index_to_docstore_id={}\n",
    "    )\n",
    "    vector_store.add_documents(documents=chunks)\n",
    "    return vector_store"
   ]
  },
  {
   "cell_type": "code",
   "execution_count": 13,
   "metadata": {},
   "outputs": [],
   "source": [
    "vector_store = setup_vector_store(chunks)\n",
    "# Setup retriever\n",
    "retriever = vector_store.as_retriever(search_type=\"similarity\", search_kwargs={'k': 10})"
   ]
  },
  {
   "cell_type": "code",
   "execution_count": 14,
   "metadata": {},
   "outputs": [
    {
     "data": {
      "text/plain": [
       "(159, 159)"
      ]
     },
     "execution_count": 14,
     "metadata": {},
     "output_type": "execute_result"
    }
   ],
   "source": [
    "vector_store.index.ntotal, len(chunks)"
   ]
  },
  {
   "cell_type": "code",
   "execution_count": 15,
   "metadata": {},
   "outputs": [
    {
     "data": {
      "text/plain": [
       "[Document(id='5b5c455a-5c65-492f-a486-3b0d8e8dc5e7', metadata={'Header 2': 'PART II. OTHER INFORMATION'}, page_content='## PART II. OTHER INFORMATION'),\n",
       " Document(id='e1c4d6c7-9a5f-4c3c-92a9-ea3075fde3d4', metadata={'Header 2': 'Prior Period Reclassifications'}, page_content='## Prior Period Reclassifications  \\nCertain amounts in prior periods have been reclassified to conform with current period presentation.'),\n",
       " Document(id='429d62bb-7b39-4e64-bc1c-2eccad7bd23e', metadata={'Header 2': \"ITEM 2. MANAGEMENT'S DISCUSSION AND ANALYSIS OF FINANCIAL CONDITION AND RESULTS OF OPERATIONS\"}, page_content='## ITEM 2. MANAGEMENT\\'S DISCUSSION AND ANALYSIS OF FINANCIAL CONDITION AND RESULTS OF OPERATIONS  \\nPlease read the following discussion and analysis of our financial condition and results of operations together with  \"Note  About  Forward-Looking  Statements\"  and  our  consolidated  financial  statements  and  related  notes included under Item 1 of this Quarterly Report on Form 10-Q as well as our Annual Report on Form 10-K for the fiscal year ended December 31, 2023, including Part I, Item 1A \"Risk Factors,\" as updated in our Quarterly Report on Form 10-Q for the quarter ended June 30, 2024 and in this Quarterly Report on Form 10-Q.'),\n",
       " Document(id='6007c8ae-d2a4-4cc7-9c4e-0929f112f1d0', metadata={'Header 2': 'Financing'}, page_content='## Financing  \\nWe have a short-term debt financing program of up to $10.0 billion through the issuance of commercial paper. Net proceeds from this program are used for general corporate purposes. As of September 30, 2024, we had $1.0 billion of short-term commercial paper outstanding.  \\nAs of September 30, 2024, we had $10.0 billion of revolving credit facilities, $4.0 billion expiring in April 2025 and $6.0 billion expiring in April 2028. The interest rates for all credit facilities are determined based on a formula using  certain  market  rates,  as  well  as  our  progress  toward  the  achievement  of  certain  sustainability  goals.  No amounts have been borrowed under the credit facilities.  \\nAs of September 30, 2024, we had senior unsecured notes outstanding with a total carrying value of $11.9 billion. For additional information, see Note 5 of the Notes to Consolidated Financial Statements included in Item 1 of this Quarterly Report on Form 10-Q.  \\nWe primarily utilize contract manufacturers for the assembly of our servers used in our technical infrastructure and devices we sell. We have agreements where we may purchase components directly from suppliers and then supply these components to contract manufacturers for use in the assembly of the servers and devices. Certain of these  arrangements  result  in  a  portion  of  the  cash  received  from  and  paid  to  the  contract  manufacturers  to  be presented as financing activities in the Consolidated Statements of Cash Flows included in Item 1 of this Quarterly Report on Form 10-Q.'),\n",
       " Document(id='e63ef015-6d77-4f89-b2d8-887ea2f72a69', metadata={'Header 2': 'ALPHABET INC.'}, page_content=\"## ALPHABET INC.  \\nOctober 29, 2024  \\nBy: /s/    Anat Ashkenazi  \\nOctober 29, 2024  \\nBy: /s/    AMIE THUENER O'TOOLE  \\nAmie Thuener O'Toole  \\nVice President, Corporate Controller and Principal Accounting Officer  \\nAnat Ashkenazi  \\nSenior Vice President, Chief Financial Officer  \\nALPHABET INC.\"),\n",
       " Document(id='337e677d-ff51-41d5-b48c-accc33727b2e', metadata={'Header 2': 'Short-Term Debt'}, page_content='## Short-Term Debt  \\nWe  have  a  debt  financing  program  of  up  to  $10.0  billion  through  the  issuance  of  commercial  paper.  Net proceeds from this program are used for general corporate purposes. We had no commercial paper outstanding as of December 31, 2023 and $1.0 billion of commercial paper outstanding with a weighted-average effective interest rate of 4.8% as of September 30, 2024. The estimated fair value of the commercial paper approximated its carrying value as of September 30, 2024.  \\nOur short-term debt balance also includes the current portion of certain long-term debt.'),\n",
       " Document(id='1a738cc9-69e8-48d8-a582-60da6161c6db', metadata={'Header 2': 'Consolidated VIEs'}, page_content='## Consolidated VIEs  \\nWe  consolidate  VIEs  in  which  we  hold  a  variable  interest  and  are  the  primary  beneficiary.  The  results  of operations and financial position of these VIEs are included in our consolidated financial statements.  \\nFor certain consolidated VIEs, their assets are not available to us, and their creditors do not have recourse to us. As of December 31, 2023 and September 30, 2024, assets that can only be used to settle obligations of these VIEs were $4.9 billion and $7.8 billion, respectively and are primarily included in cash and cash equivalents on our Consolidated Balance Sheets. As of December 31, 2023 and September 30, 2024, liabilities for which creditors only have  recourse  to  the  VIEs  were  $2.5  billion  and  $1.9  billion,  respectively.  We  may  continue  to  fund  ongoing operations of certain VIEs that are included within Other Bets.  \\nWaymo,  a  fully  autonomous  driving  technology  company  and  a  consolidated  VIE,  received  $4.8  billion  in funding during the three months ended September 30, 2024, followed by an additional $860 million in October 2024. The majority of the total funding of $5.6 billion was provided by Alphabet. Investments from external parties were accounted for as equity transactions and resulted in recognition of noncontrolling interests.  \\nAs of December 31, 2023 and September 30, 2024, total noncontrolling interests (NCI) in our consolidated subsidiaries were $3.4 billion, of which $1.1 billion was redeemable noncontrolling interests (RNCI) for both periods. NCI and RNCI are included within additional paid-in capital. Net loss attributable to noncontrolling interests was not material  for  any  period  presented  and  is  included  within  the  \"other\"  component  of  OI&E.  See  Note  6  for  further details on OI&E.'),\n",
       " Document(id='fda51073-02a3-4be5-add5-4d752c9d2add', metadata={'Header 2': 'Recent Accounting Pronouncements'}, page_content='## Recent Accounting Pronouncements  \\nIn  November 2023, the Financial Accounting Standards Board (FASB) issued Accounting Standards Update (ASU) 2023-07 \"Segment Reporting (Topic 280): Improvements to Reportable Segment Disclosures\" which expands annual and interim disclosure requirements for reportable segments, primarily through enhanced disclosures about significant segment expenses. ASU 2023-07 is effective for our annual periods beginning January 1, 2024, and for interim periods beginning January 1, 2025, with early adoption permitted. We are currently evaluating the potential effect that the updated standard will have on our financial statement disclosures.  \\nIn December 2023, the FASB issued ASU 2023-09 \"Income Taxes (Topics 740): Improvements to Income Tax Disclosures\" to expand the disclosure requirements for income taxes. Upon adoption we will be required to disclose standardized categories in the rate reconciliation  in  both  percentage  and  dollar  amounts. ASU  2023-09  will  also require income taxes paid to be disaggregated by jurisdiction, among other disclosure requirements. We will adopt ASU 2023-09 for our annual periods beginning January 1, 2025.'),\n",
       " Document(id='a23863a7-2d5e-4715-88af-501261eedbd4', metadata={'Header 2': 'Table of Contents'}, page_content='## Table of Contents'),\n",
       " Document(id='a16fc2b3-cdd9-46fd-a4ba-b1a4e85994b8', metadata={'Header 2': 'Table of Contents'}, page_content='## Table of Contents')]"
      ]
     },
     "execution_count": 15,
     "metadata": {},
     "output_type": "execute_result"
    }
   ],
   "source": [
    "docs = retriever.invoke('Call for applications to the Second Cycle Degree Programmes:')\n",
    "docs"
   ]
  },
  {
   "cell_type": "markdown",
   "metadata": {},
   "source": [
    "### Formatting documents for RAG"
   ]
  },
  {
   "cell_type": "code",
   "execution_count": 16,
   "metadata": {},
   "outputs": [],
   "source": [
    "# Formatting documents for RAG\n",
    "def format_docs(docs):\n",
    "    return \"\\n\\n\".join([doc.page_content for doc in docs])\n",
    "\n",
    "content = format_docs(docs)"
   ]
  },
  {
   "cell_type": "code",
   "execution_count": 17,
   "metadata": {},
   "outputs": [
    {
     "name": "stdout",
     "output_type": "stream",
     "text": [
      "## PART II. OTHER INFORMATION\n",
      "\n",
      "## Prior Period Reclassifications  \n",
      "Certain amounts in prior periods have been reclassified to conform with current period presentation.\n",
      "\n",
      "## ITEM 2. MANAGEMENT'S DISCUSSION AND ANALYSIS OF FINANCIAL CONDITION AND RESULTS OF OPERATIONS  \n",
      "Please read the following discussion and analysis of our financial condition and results of operations together with  \"Note  About  Forward-Looking  Statements\"  and  our  consolidated  financial  statements  and  related  notes included under Item 1 of this Quarterly Report on Form 10-Q as well as our Annual Report on Form 10-K for the fiscal year ended December 31, 2023, including Part I, Item 1A \"Risk Factors,\" as updated in our Quarterly Report on Form 10-Q for the quarter ended June 30, 2024 and in this Quarterly Report on Form 10-Q.\n",
      "\n",
      "## Financing  \n",
      "We have a short-term debt financing program of up to $10.0 billion through the issuance of commercial paper. Net proceeds from this program are used for general corporate purposes. As of September 30, 2024, we had $1.0 billion of short-term commercial paper outstanding.  \n",
      "As of September 30, 2024, we had $10.0 billion of revolving credit facilities, $4.0 billion expiring in April 2025 and $6.0 billion expiring in April 2028. The interest rates for all credit facilities are determined based on a formula using  certain  market  rates,  as  well  as  our  progress  toward  the  achievement  of  certain  sustainability  goals.  No amounts have been borrowed under the credit facilities.  \n",
      "As of September 30, 2024, we had senior unsecured notes outstanding with a total carrying value of $11.9 billion. For additional information, see Note 5 of the Notes to Consolidated Financial Statements included in Item 1 of this Quarterly Report on Form 10-Q.  \n",
      "We primarily utilize contract manufacturers for the assembly of our servers used in our technical infrastructure and devices we sell. We have agreements where we may purchase components directly from suppliers and then supply these components to contract manufacturers for use in the assembly of the servers and devices. Certain of these  arrangements  result  in  a  portion  of  the  cash  received  from  and  paid  to  the  contract  manufacturers  to  be presented as financing activities in the Consolidated Statements of Cash Flows included in Item 1 of this Quarterly Report on Form 10-Q.\n",
      "\n",
      "## ALPHABET INC.  \n",
      "October 29, 2024  \n",
      "By: /s/    Anat Ashkenazi  \n",
      "October 29, 2024  \n",
      "By: /s/    AMIE THUENER O'TOOLE  \n",
      "Amie Thuener O'Toole  \n",
      "Vice President, Corporate Controller and Principal Accounting Officer  \n",
      "Anat Ashkenazi  \n",
      "Senior Vice President, Chief Financial Officer  \n",
      "ALPHABET INC.\n",
      "\n",
      "## Short-Term Debt  \n",
      "We  have  a  debt  financing  program  of  up  to  $10.0  billion  through  the  issuance  of  commercial  paper.  Net proceeds from this program are used for general corporate purposes. We had no commercial paper outstanding as of December 31, 2023 and $1.0 billion of commercial paper outstanding with a weighted-average effective interest rate of 4.8% as of September 30, 2024. The estimated fair value of the commercial paper approximated its carrying value as of September 30, 2024.  \n",
      "Our short-term debt balance also includes the current portion of certain long-term debt.\n",
      "\n",
      "## Consolidated VIEs  \n",
      "We  consolidate  VIEs  in  which  we  hold  a  variable  interest  and  are  the  primary  beneficiary.  The  results  of operations and financial position of these VIEs are included in our consolidated financial statements.  \n",
      "For certain consolidated VIEs, their assets are not available to us, and their creditors do not have recourse to us. As of December 31, 2023 and September 30, 2024, assets that can only be used to settle obligations of these VIEs were $4.9 billion and $7.8 billion, respectively and are primarily included in cash and cash equivalents on our Consolidated Balance Sheets. As of December 31, 2023 and September 30, 2024, liabilities for which creditors only have  recourse  to  the  VIEs  were  $2.5  billion  and  $1.9  billion,  respectively.  We  may  continue  to  fund  ongoing operations of certain VIEs that are included within Other Bets.  \n",
      "Waymo,  a  fully  autonomous  driving  technology  company  and  a  consolidated  VIE,  received  $4.8  billion  in funding during the three months ended September 30, 2024, followed by an additional $860 million in October 2024. The majority of the total funding of $5.6 billion was provided by Alphabet. Investments from external parties were accounted for as equity transactions and resulted in recognition of noncontrolling interests.  \n",
      "As of December 31, 2023 and September 30, 2024, total noncontrolling interests (NCI) in our consolidated subsidiaries were $3.4 billion, of which $1.1 billion was redeemable noncontrolling interests (RNCI) for both periods. NCI and RNCI are included within additional paid-in capital. Net loss attributable to noncontrolling interests was not material  for  any  period  presented  and  is  included  within  the  \"other\"  component  of  OI&E.  See  Note  6  for  further details on OI&E.\n",
      "\n",
      "## Recent Accounting Pronouncements  \n",
      "In  November 2023, the Financial Accounting Standards Board (FASB) issued Accounting Standards Update (ASU) 2023-07 \"Segment Reporting (Topic 280): Improvements to Reportable Segment Disclosures\" which expands annual and interim disclosure requirements for reportable segments, primarily through enhanced disclosures about significant segment expenses. ASU 2023-07 is effective for our annual periods beginning January 1, 2024, and for interim periods beginning January 1, 2025, with early adoption permitted. We are currently evaluating the potential effect that the updated standard will have on our financial statement disclosures.  \n",
      "In December 2023, the FASB issued ASU 2023-09 \"Income Taxes (Topics 740): Improvements to Income Tax Disclosures\" to expand the disclosure requirements for income taxes. Upon adoption we will be required to disclose standardized categories in the rate reconciliation  in  both  percentage  and  dollar  amounts. ASU  2023-09  will  also require income taxes paid to be disaggregated by jurisdiction, among other disclosure requirements. We will adopt ASU 2023-09 for our annual periods beginning January 1, 2025.\n",
      "\n",
      "## Table of Contents\n",
      "\n",
      "## Table of Contents\n"
     ]
    }
   ],
   "source": [
    "print(content)"
   ]
  },
  {
   "cell_type": "markdown",
   "metadata": {},
   "source": [
    "### Setting up the RAG chain"
   ]
  },
  {
   "cell_type": "code",
   "execution_count": 18,
   "metadata": {},
   "outputs": [],
   "source": [
    "# Setting up the RAG chain\n",
    "def create_rag_chain(retriever):\n",
    "    prompt = \"\"\"\n",
    "        You are an assistant for question-answering tasks. Use the following pieces of retrieved context to answer the question.\n",
    "        If you don't know the answer, just say that you don't know.\n",
    "        Answer in bullet points. Make sure your answer is relevant to the question and it is answered from the context only.\n",
    "        ### Question: {question} \n",
    "        \n",
    "        ### Context: {context} \n",
    "        \n",
    "        ### Answer:\n",
    "    \"\"\"\n",
    "    model = ChatOllama(model=\"deepseek-r1:1.5b\", base_url=\"http://localhost:11434\")\n",
    "    prompt_template = ChatPromptTemplate.from_template(prompt)\n",
    "\n",
    "    chain = (\n",
    "        {\"context\": retriever | format_docs, \"question\": RunnablePassthrough()}\n",
    "        | prompt_template\n",
    "        | model\n",
    "        | StrOutputParser()\n",
    "    )\n",
    "    return chain"
   ]
  },
  {
   "cell_type": "markdown",
   "metadata": {},
   "source": [
    "### Putting Everything Together"
   ]
  },
  {
   "cell_type": "code",
   "execution_count": 19,
   "metadata": {},
   "outputs": [],
   "source": [
    "# One-time process\n",
    "\n",
    "# Load document\n",
    "#source = \"rag-dataset/goog-10-q-q3-2024.pdf\"\n",
    "markdown_content = load_and_convert_document(source)\n",
    "chunks = get_markdown_splits(markdown_content)\n",
    "\n",
    "# Create vector store\n",
    "vector_store = setup_vector_store(chunks)\n",
    "\n",
    "# Setup retriever\n",
    "retriever = vector_store.as_retriever(search_type=\"mmr\", search_kwargs={'k': 1})\n",
    "\n",
    "# Create RAG chain\n",
    "rag_chain = create_rag_chain(retriever)"
   ]
  },
  {
   "cell_type": "code",
   "execution_count": 20,
   "metadata": {},
   "outputs": [
    {
     "name": "stdout",
     "output_type": "stream",
     "text": [
      "Question: What are Debt Securities Total value in $\n",
      "<think>\n",
      "Alright, so I need to figure out the total value of debt securities as of September 30, 2024, based on the context provided.\n",
      "\n",
      "First, let me look at what's given. The context mentions that as of September 30, 2024, we had $93.2 billion in cash, cash equivalents, and short-term marketable securities. These include various types like time deposits, money market funds, government bonds, corporate debt securities, mortgage-backed securities, and marketable equity securities.\n",
      "\n",
      "Wait, but the question is specifically about debt securities, not all marketable securities. So I need to focus on the parts that are debt-related.\n",
      "\n",
      "Looking back at the context, it doesn't mention anything directly about debt securities except for marketable equity securities. So maybe the $93.2 billion includes cash equivalents and other marketable securities but excludes debt securities like corporate debt or government debt?\n",
      "\n",
      "Hmm, that might be a problem because if all the marketable securities are part of cash and equivalents, then the total would not have any debt components.\n",
      "\n",
      "Wait, perhaps I'm misunderstanding. The context says \"Cash, Cash Equivalents, and Marketable Securities\" which includes time deposits, money market funds, government bonds, corporate debt, mortgage-backed, asset-backed, and marketable equity. But if all these are considered as cash equivalents or short-term marketable securities, then maybe the total of those isn't a separate debt security.\n",
      "\n",
      "So, if the question is about the total value of debt securities in $, but from the context, I don't see any figures related to corporate debt securities, mortgage-backed, asset-backed, or government debt. Therefore, it's possible that the answer might be \"Not available\" because there isn't enough information provided.\n",
      "\n",
      "Alternatively, if all marketable securities are considered cash equivalents, then perhaps the total $93.2 billion doesn't include any debt securities. That would mean the total value of debt securities is zero based on the given data.\n",
      "</think>\n",
      "\n",
      "The context does not provide specific figures for debt securities such as corporate debt, government debt, or other types. Therefore, the total value of debt securities cannot be determined from the provided information.\n",
      "\n",
      "Answer:\n",
      "     The total value of debt securities is not available in the context.\n",
      "--------------------------------------------------\n",
      "\n"
     ]
    }
   ],
   "source": [
    "# Questions for retrieval\n",
    "# question = \"How much revenue is there for Google in September 2024?\"\n",
    "# question = \"What is the net income for this quarter, and what are the key drivers contributing to its increase or decrease?\"\n",
    "# question = \"Tell me Debt Securities estimated fair value due after 10 years? As of September 30, 2024\"\n",
    "question = \"What are Debt Securities Total value in $\"\n",
    "# question = \"Tell me available second cycle degree programms for this intake?\"\n",
    "\n",
    "print(f\"Question: {question}\")\n",
    "for chunk in rag_chain.stream(question):\n",
    "    print(chunk, end=\"\", flush=True)\n",
    "print(\"\\n\" + \"-\" * 50 + \"\\n\")"
   ]
  }
 ],
 "metadata": {
  "kernelspec": {
   "display_name": "base",
   "language": "python",
   "name": "python3"
  },
  "language_info": {
   "codemirror_mode": {
    "name": "ipython",
    "version": 3
   },
   "file_extension": ".py",
   "mimetype": "text/x-python",
   "name": "python",
   "nbconvert_exporter": "python",
   "pygments_lexer": "ipython3",
   "version": "3.10.9"
  }
 },
 "nbformat": 4,
 "nbformat_minor": 2
}
